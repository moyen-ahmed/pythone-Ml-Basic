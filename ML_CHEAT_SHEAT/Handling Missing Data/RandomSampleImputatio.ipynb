{
 "cells": [
  {
   "cell_type": "markdown",
   "id": "84f4eafe",
   "metadata": {},
   "source": [
    "\n",
    "### 5.1 Random Sample Imputation\n",
    "\n",
    "Random Sample Imputation is a type of single imputation method which involves replacing missing values with a randomly selected value from the same feature column. This is also known as hot deck imputation.\n",
    "\n",
    "**Example:** if we have a column of exam scores with missing values, Random Sample Imputation would replace the missing values with a randomly selected exam score from the same column.\n",
    "\n",
    "**Why use it?**\n",
    "\n",
    "- It is a simple and fast method\n",
    "- It preserves the original distribution of the data\n",
    "- It is a good choice for data that has a large number of categories\n",
    "- It does not require any additional parameters to be set\n",
    "\n",
    "**Drawbacks:**\n",
    "\n",
    "- It can be computationally expensive for large datasets\n",
    "- It does not take into account the relationships between different features\n",
    "- It does not provide any uncertainty estimates for the imputed values\n",
    "\n",
    "**Example Code:**\n",
    "\n",
    "import numpy as np\n",
    "from sklearn.impute import SimpleImputer\n",
    "\n",
    "imputer = SimpleImputer(strategy='constant', fill_value=np.nan)\n",
    "imputer.fit(X)\n",
    "X_imputed = imputer.transform(X)\n"
   ]
  }
 ],
 "metadata": {
  "language_info": {
   "name": "python"
  }
 },
 "nbformat": 4,
 "nbformat_minor": 5
}
