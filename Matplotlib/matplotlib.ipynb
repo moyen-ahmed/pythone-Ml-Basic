{
 "cells": [
  {
   "cell_type": "code",
   "execution_count": null,
   "id": "e237ce86",
   "metadata": {
    "vscode": {
     "languageId": "plaintext"
    }
   },
   "outputs": [],
   "source": []
  },
  {
   "cell_type": "code",
   "execution_count": null,
   "id": "7b0491a9",
   "metadata": {
    "vscode": {
     "languageId": "plaintext"
    }
   },
   "outputs": [],
   "source": []
  }
 ],
 "metadata": {
  "language_info": {
   "name": "python"
  }
 },
 "nbformat": 4,
 "nbformat_minor": 5
}
